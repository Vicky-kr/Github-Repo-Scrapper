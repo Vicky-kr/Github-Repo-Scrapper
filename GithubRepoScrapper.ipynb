{
 "cells": [
  {
   "cell_type": "code",
   "execution_count": 2,
   "id": "ee0df638",
   "metadata": {},
   "outputs": [],
   "source": [
    "from bs4 import BeautifulSoup\n",
    "import requests"
   ]
  },
  {
   "cell_type": "code",
   "execution_count": 41,
   "id": "f8f84e52",
   "metadata": {},
   "outputs": [],
   "source": [
    "username = 'Vicky-kr'\n",
    "url = f'https://github.com/{username}?tab=repositories'"
   ]
  },
  {
   "cell_type": "code",
   "execution_count": 42,
   "id": "f62d4001",
   "metadata": {},
   "outputs": [],
   "source": [
    "r = requests.get(url)"
   ]
  },
  {
   "cell_type": "code",
   "execution_count": 43,
   "id": "02ceb2a9",
   "metadata": {},
   "outputs": [],
   "source": [
    "soup = BeautifulSoup(r.content,'html.parser')"
   ]
  },
  {
   "cell_type": "code",
   "execution_count": 44,
   "id": "35a66dc8",
   "metadata": {},
   "outputs": [],
   "source": [
    "li = soup.find_all('div',class_='col-10 col-lg-9 d-inline-block')"
   ]
  },
  {
   "cell_type": "code",
   "execution_count": 45,
   "id": "a3f5477e",
   "metadata": {},
   "outputs": [],
   "source": [
    "base_url = 'https://gihub.com/'"
   ]
  },
  {
   "cell_type": "code",
   "execution_count": 56,
   "id": "1181f39d",
   "metadata": {},
   "outputs": [
    {
     "name": "stdout",
     "output_type": "stream",
     "text": [
      "https://gihub.com//Vicky-kr/Vicky-kr\n",
      "https://gihub.com//Vicky-kr/otpViewer/network/members\n",
      "https://gihub.com//Vicky-kr/videoCallApp\n",
      "https://gihub.com//Vicky-kr/EXL-EQ-2022\n",
      "https://gihub.com//Vicky-kr/My-E-commerce\n",
      "https://gihub.com//Vicky-kr/LAMP\n",
      "https://gihub.com//Vicky-kr/interactive-data-visualisation\n",
      "https://gihub.com//Vicky-kr/Movie_Library\n",
      "https://gihub.com//Vicky-kr/graphQL-wrapper-python\n",
      "https://gihub.com//Vicky-kr/health-tracker/network/members\n",
      "https://gihub.com//Vicky-kr/payment_scanner\n",
      "https://gihub.com//Vicky-kr/GroupChat\n"
     ]
    }
   ],
   "source": [
    "for _ , i in enumerate(li):\n",
    "    for a in i.findAll('a'):\n",
    "        newUrl = base_url+a['href']\n",
    "#     print(f'{_+1}\\t{i.text.strip()}\\t{newUrl}')\n",
    "    print(newUrl)\n"
   ]
  },
  {
   "cell_type": "code",
   "execution_count": null,
   "id": "d95b45a0",
   "metadata": {},
   "outputs": [],
   "source": []
  }
 ],
 "metadata": {
  "kernelspec": {
   "display_name": "Python 3 (ipykernel)",
   "language": "python",
   "name": "python3"
  },
  "language_info": {
   "codemirror_mode": {
    "name": "ipython",
    "version": 3
   },
   "file_extension": ".py",
   "mimetype": "text/x-python",
   "name": "python",
   "nbconvert_exporter": "python",
   "pygments_lexer": "ipython3",
   "version": "3.9.7"
  }
 },
 "nbformat": 4,
 "nbformat_minor": 5
}
